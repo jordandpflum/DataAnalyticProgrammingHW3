{
 "cells": [
  {
   "cell_type": "markdown",
   "metadata": {},
   "source": [
    "# Group Members\n",
    "- Pflum, Jordan\n",
    "- Cheng, Tim\n",
    "- Girtharan, Mervyn"
   ]
  },
  {
   "cell_type": "markdown",
   "metadata": {},
   "source": [
    "# Logistics\n",
    "You must create one Jupyter notebook for the entire assignment, and upload\n",
    "it to Canvas by **August 6, before class begins.**"
   ]
  },
  {
   "cell_type": "markdown",
   "metadata": {},
   "source": [
    "# Introduction\n",
    "Suppose we have a bunch of URLs and we want to know their adult-rating\n",
    "(i.e., is the url P, or G, or X, or R). This task is dificult for computers,\n",
    "but easy for humans, and this has led to the growth of crowdsourcing: get\n",
    "a bunch of humans to give ratings to urls, but use automated techniques to\n",
    "figure out how much to trust each person's ratings.\n",
    " \n",
    "We are going to use the data from a paper by Ipeirotis et al. available\n",
    "here. This details an experiment run on Amazon's Mechanical Turk crowd-\n",
    "sourcing system. They ask a bunch of raters (called \"turks\") to rate several\n",
    "urls, but they already know the answers (the true categories) for a few urls,\n",
    "called the \"gold set\". The ratings of the turks on the gold set thus allows us\n",
    "to judge their accuracy."
   ]
  },
  {
   "cell_type": "markdown",
   "metadata": {},
   "source": [
    "# Q1 (10pts) Read in data\n",
    "Read in the files gold.txt and labels.txt. The gold DataFrame should\n",
    "have columns url and category, while the labels DataFrame should have\n",
    "columns turk, url and category. You will have to pick the right separator."
   ]
  },
  {
   "cell_type": "code",
   "execution_count": 2,
   "metadata": {},
   "outputs": [],
   "source": [
    "import pandas as pd\n",
    "\n",
    "# Read in Gold Set and Labels Set\n",
    "goldData = pd.read_csv('gold.txt', names=['url','category'],delimiter='\\t')\n",
    "labelsData = pd.read_csv('labels.txt', names=['turk', 'url', 'category'],delimiter='\\t')"
   ]
  },
  {
   "cell_type": "markdown",
   "metadata": {},
   "source": [
    "# Q2 (10pts) Split into two DataFrames\n",
    "Split the labels DataFrame into two: labels_on_gold and labels_unknown,\n",
    "the former containing all rows where the url is present in the gold set, and\n",
    "the latter one contains all remaining rows of labels."
   ]
  },
  {
   "cell_type": "code",
   "execution_count": 3,
   "metadata": {},
   "outputs": [
    {
     "name": "stdout",
     "output_type": "stream",
     "text": [
      "             turk                        url category_gold category_turk\n",
      "0  A1253FXHCZ9CWM  http://0800-horoscope.com             G             G\n",
      "1  A153PKAL7OAY36  http://0800-horoscope.com             G             G\n",
      "2  A1FV9SAPL5C6KY  http://0800-horoscope.com             G             G\n",
      "3  A1JTOT0DWM6QGL  http://0800-horoscope.com             G             G\n",
      "4  A1PXXEOGQ76RNJ  http://0800-horoscope.com             G             G\n",
      "             turk            url category\n",
      "0  A1OT3A29R9N1DG  http://000.cc        P\n",
      "1  A1PXXEOGQ76RNJ  http://000.cc        G\n",
      "2  A1PXXEOGQ76RNJ  http://000.cc        G\n",
      "3  A21US576U8SCO4  http://000.cc        G\n",
      "4  A2LGX47NN7C5D3  http://000.cc        G\n"
     ]
    }
   ],
   "source": [
    "# Create Dataframe of Lables in Gold Set\n",
    "labels_on_gold = pd.merge(goldData, labelsData, how='inner', on=['url'])\n",
    "labels_on_gold = labels_on_gold.reset_index()[['turk', 'url', 'category_x', 'category_y']]\n",
    "labels_on_gold = labels_on_gold.rename(columns={'turk': 'turk', \n",
    "                                                'url': 'url', \n",
    "                                                'category_x': 'category_gold', \n",
    "                                                'category_y': 'category_turk'})\n",
    "\n",
    "# Create Dataframe of Lables not in Gold Set\n",
    "labels_unknown = pd.merge(labelsData, goldData, on=['url'],how=\"outer\",indicator=True)\n",
    "labels_unknown = labels_unknown[labels_unknown['_merge']=='left_only']\n",
    "labels_unknown = labels_unknown.reset_index()[['turk', 'url', 'category_x']]\n",
    "labels_unknown = labels_unknown.rename(columns={'turk': 'turk', 'url': 'url', 'category_x': 'category'})\n",
    "\n",
    "print(labels_on_gold.head())\n",
    "print(labels_unknown.head())"
   ]
  },
  {
   "cell_type": "markdown",
   "metadata": {},
   "source": [
    "# Q3 (10pts) Compute Accuracies of turks\n",
    "Create a rater_goodness DataFrame that is indexed by turk, and has two\n",
    "columns: the number of ratings, and the average correctness of ratings for\n",
    "each turk (both on gold set urls)."
   ]
  },
  {
   "cell_type": "code",
   "execution_count": 19,
   "metadata": {},
   "outputs": [
    {
     "name": "stdout",
     "output_type": "stream",
     "text": [
      "[False False False False False False False False False False False False\n",
      " False False False False False False False False False False False False\n",
      " False False False False False False False False False False False False\n",
      " False False False False False False False False False False False False\n",
      " False False False False False False False False False False False False\n",
      " False False False False False False False False False False False False\n",
      " False False False False False False False False False False False False\n",
      " False False False False False False False False False False False False\n",
      " False False False False False False False False False False False False\n",
      " False False False False False False False False False False False False\n",
      " False False False False False False False False False False False False\n",
      " False False False False False False False False False False False False\n",
      " False False False False False False False False False False False False\n",
      " False False False False False False False False False False False False\n",
      " False False False False False False False False False False False False\n",
      " False False False False False False False False False False False False\n",
      " False False False False False False False False False False False False\n",
      " False False False False False False False False False False False False\n",
      " False False False False False False False False False False False False\n",
      " False False False False False False False False False False False  True\n",
      " False False False False False False False False False False False False\n",
      " False False False False False False False False False False False False\n",
      " False False False False False]\n",
      "                numRatings  avgCorrectness\n",
      "A31OCN4MNHUQ6W         184        0.777174\n",
      "A153PKAL7OAY36         148        0.722973\n",
      "A2BTR0GQ5B5JI6         126        0.523810\n",
      "ATVALOQVDCMZW          103        0.854369\n",
      "AZSDW7JJL5VA7          100        0.680000\n",
      "...                    ...             ...\n",
      "A2IL4XCABTLNOV           1        1.000000\n",
      "A1MQAXQ1UO7TE9           1        1.000000\n",
      "A1554ZM0CLKSG5           1        1.000000\n",
      "A2QQBCDN6GQOKC           1        0.000000\n",
      "ADTRYL7BOCKFM            1        0.000000\n",
      "\n",
      "[269 rows x 2 columns]\n"
     ]
    }
   ],
   "source": [
    "# Get Total number ratings per turk\n",
    "labels_on_gold_turk_total = labels_on_gold['turk'].value_counts()\n",
    "labels_on_gold_turk_total = labels_on_gold_turk_total.rename(\"numRatings\")\n",
    "\n",
    "#print(labels_on_gold_turk_total)\n",
    "#print(labels_on_gold)\n",
    "\n",
    "print(\"A32309NYZO1QFB\" == labels_on_gold_turk_total.index)\n",
    "\n",
    "# Get total ratings correct per turk\n",
    "labels_on_gold_correct = labels_on_gold[labels_on_gold['category_gold'] == labels_on_gold['category_turk']]\n",
    "labels_on_gold_correct_count = labels_on_gold_correct['turk'].value_counts()\n",
    "\n",
    "# Get total correct ratings percent (adjusting null values to 0 - turk did not rate any gold set correctly)\n",
    "labels_on_gold_correct_percent = labels_on_gold_correct_count / labels_on_gold_turk_total\n",
    "labels_on_gold_correct_percent[labels_on_gold_correct_percent.isnull()] = 0\n",
    "labels_on_gold_correct_percent = labels_on_gold_correct_percent.rename(\"avgCorrectness\")\n",
    "\n",
    "# Merge Dataframes\n",
    "rater_goodness = pd.concat([labels_on_gold_turk_total, labels_on_gold_correct_percent], axis=1)\n",
    "\n",
    "\n",
    "print(rater_goodness)\n",
    "#print(len(rater_goodness))"
   ]
  },
  {
   "cell_type": "markdown",
   "metadata": {},
   "source": [
    "# Q4 Odds Ratios\n",
    "If someone is correct $p$ fraction of the time, the *odds* of success are defined as: $$\\mbox{odds } = \\frac{p}{1.001 - p}$$ Attach a column called *odds* to the *rater_goodness* DataFrame, using the average correctness of the turk as his or her *p*."
   ]
  },
  {
   "cell_type": "code",
   "execution_count": 4,
   "metadata": {},
   "outputs": [
    {
     "name": "stdout",
     "output_type": "stream",
     "text": [
      "                numRatings  avgCorrectness      odds\n",
      "A31OCN4MNHUQ6W         184        0.777174  3.472222\n",
      "A153PKAL7OAY36         148        0.722973  2.600369\n",
      "A2BTR0GQ5B5JI6         126        0.523810  1.097695\n",
      "ATVALOQVDCMZW          103        0.854369  5.826657\n",
      "AZSDW7JJL5VA7          100        0.680000  2.118380\n",
      "269\n"
     ]
    }
   ],
   "source": [
    "def calculateOdds(p):\n",
    "    \"\"\"Calculate odds ratio\"\"\"\n",
    "    \"\"\"odds= p / 1.001-p   \"\"\"\n",
    "    \n",
    "    odds = p / (1.001 - p)\n",
    "    \n",
    "    return odds\n",
    "\n",
    "# Create odds column for rater_goodness dataframe\n",
    "rater_goodness['odds'] = rater_goodness['avgCorrectness'].map(calculateOdds)\n",
    "\n",
    "\n",
    "\n",
    "print(rater_goodness.head())\n",
    "print(len(rater_goodness))"
   ]
  },
  {
   "cell_type": "markdown",
   "metadata": {},
   "source": [
    "# Q5 (10pts) Most Accurate Turks\n",
    "List the top 10 most accurate turks who have rated at least 20 gold set URLs."
   ]
  },
  {
   "cell_type": "code",
   "execution_count": 76,
   "metadata": {},
   "outputs": [
    {
     "name": "stdout",
     "output_type": "stream",
     "text": [
      "                numRatings  avgCorrectness\n",
      "A2U0R4X38GUKZE          20        0.950000\n",
      "A22C0PJUBFJTI0          36        0.916667\n",
      "A23YQUBXZPKILZ          24        0.875000\n",
      "ATVALOQVDCMZW          103        0.854369\n",
      "A1HIXWH4OXT8S4          40        0.825000\n",
      "A3220HG1O83HQ4          22        0.818182\n",
      "A32W20KGQXS0LL          25        0.800000\n",
      "A20PWAB7G3HDHU          20        0.800000\n",
      "AJSJVK40F5HM6           28        0.785714\n",
      "A31OCN4MNHUQ6W         184        0.777174\n",
      "A3MA9V9UPGCOK7          71        0.774648\n",
      "A3IP9KYNZZ028B          22        0.772727\n",
      "A3477QYMFXUC4I          25        0.760000\n",
      "A1JTOT0DWM6QGL          29        0.758621\n",
      "A25CRC4AZY5KC1          48        0.750000\n",
      "A12RE8G66WTO8B          20        0.750000\n",
      "A35GER5TWMH9VP          64        0.750000\n",
      "AVWJPWUEE3U4Q           36        0.750000\n",
      "APYV9Y0DFZFVP           71        0.746479\n",
      "A153PKAL7OAY36         148        0.722973\n",
      "52\n"
     ]
    }
   ],
   "source": [
    "rater_goodness_top10 = rater_goodness[rater_goodness['numRatings'] >= 20].sort_values('avgCorrectness', ascending=False)\n",
    "rater_goodness_top10[:10]\n",
    "\n",
    "\n",
    "print(rater_goodness_top10[:20])\n",
    "print(len(rater_goodness_top10))"
   ]
  },
  {
   "cell_type": "markdown",
   "metadata": {},
   "source": [
    "# Q6 (10pts) Rating Counts versus accuracy\n",
    "One may imagine that a committed and accurate turk will rate lots of URLs.\n",
    "On the other hand, perhaps it is only the spammers who have the time to\n",
    "rate lots of URLs.\n",
    "\n",
    "Is number of ratings by a turker on gold set URLs related to his or her\n",
    "accuracy? There's no fixed answer; just try to show some evidence for your\n",
    "answer."
   ]
  },
  {
   "cell_type": "code",
   "execution_count": 6,
   "metadata": {},
   "outputs": [
    {
     "data": {
      "image/png": "[encoded data removed]",
      "text/plain": [
       "<Figure size 432x288 with 1 Axes>"
      ]
     },
     "metadata": {
      "needs_background": "light"
     },
     "output_type": "display_data"
    },
    {
     "name": "stdout",
     "output_type": "stream",
     "text": [
      "                            OLS Regression Results                            \n",
      "==============================================================================\n",
      "Dep. Variable:                      y   R-squared:                       0.002\n",
      "Model:                            OLS   Adj. R-squared:                 -0.002\n",
      "Method:                 Least Squares   F-statistic:                    0.5488\n",
      "Date:                Wed, 05 Aug 2020   Prob (F-statistic):              0.459\n",
      "Time:                        18:37:25   Log-Likelihood:                -94.663\n",
      "No. Observations:                 269   AIC:                             193.3\n",
      "Df Residuals:                     267   BIC:                             200.5\n",
      "Df Model:                           1                                         \n",
      "Covariance Type:            nonrobust                                         \n",
      "==============================================================================\n",
      "                 coef    std err          t      P>|t|      [0.025      0.975]\n",
      "------------------------------------------------------------------------------\n",
      "const          0.6431      0.024     27.071      0.000       0.596       0.690\n",
      "x1             0.0007      0.001      0.741      0.459      -0.001       0.002\n",
      "==============================================================================\n",
      "Omnibus:                       29.253   Durbin-Watson:                   2.061\n",
      "Prob(Omnibus):                  0.000   Jarque-Bera (JB):               28.396\n",
      "Skew:                          -0.731   Prob(JB):                     6.82e-07\n",
      "Kurtosis:                       2.373   Cond. No.                         30.1\n",
      "==============================================================================\n",
      "\n",
      "Warnings:\n",
      "[1] Standard Errors assume that the covariance matrix of the errors is correctly specified.\n",
      "0.04529238280484698\n"
     ]
    }
   ],
   "source": [
    "import matplotlib.pyplot as plt\n",
    "import statsmodels.api as sm\n",
    "\n",
    "# Set X and Y\n",
    "Y = rater_goodness['avgCorrectness'].values.reshape(-1,1)\n",
    "X = rater_goodness['numRatings'].values.reshape(-1,1)\n",
    "\n",
    "# Add Constant\n",
    "X = sm.add_constant(X)\n",
    "\n",
    "# Linear Model and Prediciton\n",
    "model = sm.OLS(Y, X).fit()\n",
    "predictions = model.predict(X) \n",
    "\n",
    "# Rest x,y for plotting\n",
    "y = rater_goodness['avgCorrectness'].values\n",
    "x = rater_goodness['numRatings'].values\n",
    "\n",
    "# Plotting\n",
    "fig = plt.figure()\n",
    "ax1 = fig.add_subplot(111)\n",
    "plt.plot(x, predictions, c='r')\n",
    "ax1.scatter(x, y)\n",
    "plt.title('Num Ratings vs Average Correctness')\n",
    "plt.xlabel('Number of Total Ratings')\n",
    "plt.ylabel('Average Correctness')\n",
    "plt.show()\n",
    "\n",
    "# Linear Model Summary\n",
    "print(model.summary())\n",
    "\n",
    "print(rater_goodness['avgCorrectness'].corr(rater_goodness['numRatings']))"
   ]
  },
  {
   "cell_type": "markdown",
   "metadata": {},
   "source": [
    "I would argue that the number of ratings by a turk on Gold Set URLs is not related to thier accuracy. When running a simple linear regression using number of total ratings to predict average ratings, we find that the total number of ratings has a positive relationship with average correctness. The regression shows us that on average, ignoring all other factors, we would expect to see a .07% increase in average correctness for every number of total ratings.  However, the number of total ratings predictor is not statistically signficant with a T-Stat of 0.741. Therefore, although there appears to be a relationship between rating and number of ratings, because the statistic is not statistically significant we fail to reject the null hypothesis that the predictor has any impact on average rating. Additionally, when computing the correlation between averageAccuracy and numRatings we find that the two statistics have a very low correlation value (0.0453)."
   ]
  },
  {
   "cell_type": "markdown",
   "metadata": {},
   "source": [
    "# Q7 (pts 13) Overall predicted odds\n",
    "Consider each url *u* that is not in the gold set, and each category *c*. For the\n",
    "pair (*u*, *c*), calculate the product of odds of all turks who (a) rated url *u* as\n",
    "category *c*, and (b) have rated more gold set urls than 75% of all turks who\n",
    "rated at least one gold-set url.\n",
    "\n",
    "For example, if you find that there are 269 turks who rated at least one\n",
    "gold-set url, you want to select only the turks who have rated more gold-set\n",
    "urls than 75% of these 269 turks. We can think of these as our \"reliable\"\n",
    "turks. Now, our belief that url *u* belongs to category *c* depends on how many\n",
    "\"reliable\" turks rated *u* as *c*; specifically, our belief is based on the product\n",
    "of their reliability scores (i.e., their odds).\n",
    "\n",
    "We shall call such products of odds the *overall odds* henceforth."
   ]
  },
  {
   "cell_type": "code",
   "execution_count": 39,
   "metadata": {},
   "outputs": [
    {
     "name": "stdout",
     "output_type": "stream",
     "text": [
      "41633\n",
      "                                           odds\n",
      "url                         category           \n",
      "http://0-101.net            G          2.155963\n",
      "http://000.cc               G          1.460583\n",
      "http://0000.jp              G         14.488244\n",
      "http://000relationships.com G          9.914590\n",
      "                            P          1.851852\n",
      "14110\n"
     ]
    }
   ],
   "source": [
    "import math\n",
    "\n",
    "# Calculate num of turks in 25 percentile\n",
    "total = len(rater_goodness)\n",
    "_25perc = math.floor(total*.25)\n",
    "\n",
    "# Get top 25% turks by number of ratings (at least one in gold set)\n",
    "rater_goodness = rater_goodness.sort_values('numRatings', ascending=False)\n",
    "rater_goodness_top25perc = rater_goodness[:_25perc]\n",
    "rater_goodness_top25perc = rater_goodness_top25perc.reset_index()\n",
    "rater_goodness_top25perc = rater_goodness_top25perc.rename(columns={'index': 'turk', \n",
    "                                                                    'numRatings': 'numRatings', \n",
    "                                                                    'avgCorrectness': 'avgCorrectness', \n",
    "                                                                    'odds': 'odds'\n",
    "                                                                   }\n",
    "                                                          )\n",
    "# Top 25% turks by number of ratings and their respective ratings in non-goldset\n",
    "labels_unkown_reliableTurks = pd.merge(rater_goodness_top25perc, labels_unknown , how='inner', on='turk')\n",
    "\n",
    "# Calculate odds for each category for each url (prod(turk odds for category))\n",
    "groupedDF = labels_unkown_reliableTurks.groupby(['url', 'category'])[['odds']].prod()\n",
    "\n",
    "print(groupedDF.head())\n",
    "print(len(groupedDF))"
   ]
  },
  {
   "cell_type": "markdown",
   "metadata": {},
   "source": [
    "# Q8 (14pts) Predicted Categories\n",
    "Create a DataFrame (called result_75, whose index is URLs not in the gold\n",
    "set, and with two columns called top_category and top_odds. The top_category \n",
    "should be the category with the highest overall odds for that url,\n",
    "and the top_odds should be the overall odds for that top_category.\n",
    "\n",
    "These are our predictions, and the confidence we have in them (higher\n",
    "overall odds implies greater confidence). If you want, you can check to see if\n",
    "the predicted categories make sense."
   ]
  },
  {
   "cell_type": "code",
   "execution_count": 44,
   "metadata": {},
   "outputs": [
    {
     "name": "stdout",
     "output_type": "stream",
     "text": [
      "10702\n",
      "                            top_Category      top_Odds\n",
      "url                                                   \n",
      "http://0-101.net                       G  2.155963e+00\n",
      "http://000.cc                          G  2.181050e+03\n",
      "http://0000.jp                         G  2.877556e+07\n",
      "http://000relationships.com            P  1.851852e+00\n",
      "http://000vitamins.com                 G  5.014149e+00\n",
      "10702\n"
     ]
    }
   ],
   "source": [
    "'''\n",
    "# Correct but inefficient\n",
    "\n",
    "urls_topCategory = {}\n",
    "urls_topOdds = {}\n",
    "for url in groupedDF.index.get_level_values(0):\n",
    "    urls_topCategory[url] = groupedDF.loc[url,'odds'].idxmax()\n",
    "    urls_topOdds[url] = groupedDF.loc[url,'odds'].max()\n",
    "\n",
    "urls_topCategory = pd.Series(urls_topCategory)\n",
    "urls_topOdds = pd.Series(urls_topOdds)\n",
    "\n",
    "result_75 = pd.concat([urls_topCategory, urls_topOdds], axis=1)\n",
    "result_75 = result_75.rename(columns={0: 'top_Category', \n",
    "                                      1: 'top_Odds'\n",
    "                                     }\n",
    "                            )\n",
    "'''\n",
    "\n",
    "\n",
    "result_75 = groupedDF.reset_index().sort_values('odds', ascending=False).drop_duplicates(subset='url').sort_values('url')\n",
    "result_75 = result_75.set_index('url')\n",
    "result_75 = result_75.rename(columns={'category': 'top_Category', \n",
    "                                      'odds': 'top_Odds'\n",
    "                                     }\n",
    "                            )\n",
    "\n",
    "result_75.head()\n",
    "\n",
    "# Testing\n",
    "print(result_75.head())\n",
    "print(len(result_75))"
   ]
  },
  {
   "cell_type": "markdown",
   "metadata": {},
   "source": [
    "# Q9 (14pts) Predicted categories using more turks\n",
    "Questions 7 and 8 above only considered the ratings of turks who had rated\n",
    "enough gold set URLs, so we were relatively more confident about their\n",
    "accuracies. What happens if we loosen this restriction?\n",
    "\n",
    "Repeat the code of Q7 and Q8, but replacing 75% by 25% in the description \n",
    "of Q7 (i.e., we also consider turks who have far fewer gold set ratings).\n",
    "Call this result 25.\n",
    "\n",
    "Now let's see how these two results compare. Create a DataFrame where\n",
    "both the index and the columns are the various categories, and the cells\n",
    "contain the number of urls with these as the top categories according to\n",
    "result 75 and result 25.\n",
    "\n",
    "For example, the cell corresponding to the row category=R and the column \n",
    "category=G would be the number of URLs that were predicted to be\n",
    "R by result 75 but predicted to be G by result 25.\n",
    "\n",
    "Where are the most errors?"
   ]
  },
  {
   "cell_type": "code",
   "execution_count": 72,
   "metadata": {
    "scrolled": true
   },
   "outputs": [
    {
     "name": "stdout",
     "output_type": "stream",
     "text": [
      "unreliableRatings     G    P    R    X\n",
      "reliableRatings                       \n",
      "G                  8107  269   68   45\n",
      "P                   243  757   31    6\n",
      "R                    54   30  334   12\n",
      "X                    71    9   25  639\n"
     ]
    }
   ],
   "source": [
    "import math\n",
    "import numpy as np\n",
    "\n",
    "# Get 75% turks\n",
    "total = len(rater_goodness)\n",
    "_75perc = math.floor(total*.75)\n",
    "rater_goodness = rater_goodness.sort_values('numRatings', ascending=False)\n",
    "rater_goodness_top75perc = rater_goodness[:_75perc]\n",
    "rater_goodness_top75perc = rater_goodness_top75perc.reset_index()\n",
    "rater_goodness_top75perc = rater_goodness_top75perc.rename(columns={'index': 'turk', \n",
    "                                                                    'numRatings': 'numRatings', \n",
    "                                                                    'avgCorrectness': 'avgCorrectness', \n",
    "                                                                    'odds': 'odds'\n",
    "                                                                   }\n",
    "                                                          )\n",
    "\n",
    "# Merge top 75% turks with unknown urls dataset\n",
    "labels_unkown_unreliableTurks = pd.merge(rater_goodness_top75perc, labels_unknown, how='inner', on=['turk'])\n",
    "\n",
    "# Get odds\n",
    "groupedDF = labels_unkown_unreliableTurks.groupby(['url', 'category'])[['odds']].prod()\n",
    "result_25 = groupedDF.reset_index().sort_values('odds', ascending=False).drop_duplicates(subset='url').sort_values('url')\n",
    "result_25 = result_25.set_index('url')\n",
    "result_25 = result_25.rename(columns={'category': 'top_Category', \n",
    "                                      'odds': 'top_Odds'\n",
    "                                     }\n",
    "                            )\n",
    "\n",
    "\n",
    "\n",
    "# Put results_25 top_Category counts into series called top_Category_25\n",
    "result_25_category_counts = result_25['top_Category'].value_counts()\n",
    "result_25_category_counts = result_25_category_counts.rename('top_Category_25')\n",
    "\n",
    "# Put results_75 top_Category counts into series called top_Category_75\n",
    "result_75_category_counts = result_75['top_Category'].value_counts()\n",
    "result_75_category_counts = result_75_category_counts.rename('top_Category_75')\n",
    "\n",
    "comparisonTable = pd.merge(result_75, result_25, on = \"url\", how = \"inner\")\n",
    "comparisonTable = comparisonTable[['top_Category_x', 'top_Category_y']]\n",
    "comparisonTable = comparisonTable.rename(columns={'top_Category_x': 'reliableRatings', \n",
    "                                                  'top_Category_y': 'unreliableRatings'\n",
    "                                                 }\n",
    "                                        )\n",
    "comparisonTable[\"counts\"] = 1\n",
    "predictedCategoriesPivotTable = pd.pivot_table(comparisonTable,\n",
    "                                               index = \"reliableRatings\",\n",
    "                                               columns = \"unreliableRatings\",\n",
    "                                               values = \"counts\", \n",
    "                                               aggfunc = sum\n",
    "                                              )\n",
    "\n",
    "# Testing\n",
    "print(predictedCategoriesPivotTable)"
   ]
  },
  {
   "cell_type": "markdown",
   "metadata": {},
   "source": [
    "The most errors appear to be in the *G* category. Ideally the 'untrusted' (75 perc) turks would predict the same results as the 'trusted' turks. If this were the case, we would expect the diagonal of the matrix/dataframe to contain the most values, as the diagonal cells are the cells where both groups predicted the same rating for urls. However, we see that the rating *G* is overpredicted, with the cells with higher values being located in the row/column associated with the *G* category."
   ]
  }
 ],
 "metadata": {
  "kernelspec": {
   "display_name": "Python 3",
   "language": "python",
   "name": "python3"
  },
  "language_info": {
   "codemirror_mode": {
    "name": "ipython",
    "version": 3
   },
   "file_extension": ".py",
   "mimetype": "text/x-python",
   "name": "python",
   "nbconvert_exporter": "python",
   "pygments_lexer": "ipython3",
   "version": "3.7.6"
  }
 },
 "nbformat": 4,
 "nbformat_minor": 4
}
